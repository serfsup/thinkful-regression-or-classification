{
 "cells": [
  {
   "cell_type": "markdown",
   "metadata": {},
   "source": [
    "For each of the following situations, decide if you would model using a regression or classification model. Discuss your reasoning with your mentor next time you meet.\n",
    "\n",
    "<ol>\n",
    "    <li><b>The amount a person will spend on a given site in the next 24 months.</b> Regression (continuous variable)</li>\n",
    "    <li><b>What color car someone is going to buy.</b> Classification (categorical variable - limited choices)</li>\n",
    "    <li><b>How many children a family will have.</b> Classification (could be either - limited number of reasonable choices</li>\n",
    "    <li><b>If someone will sign up for a service.</b> Classification (categorical - yes or no)</li>\n",
    "    <li><b>The number of times someone will get sick in a year.</b> Regression (could be either - greater number of reasonable choices)</li>\n",
    "    <li><b>The probability someone will get sick in the next month.</b> Regression (continuous variable - cannot make categories for all probabilities)</li>\n",
    "    <li><b>Which medicine will work best for a given patient.</b> Regression (continuous variable - too many medicines to choose from)</li></ol>"
   ]
  },
  {
   "cell_type": "code",
   "execution_count": null,
   "metadata": {},
   "outputs": [],
   "source": []
  }
 ],
 "metadata": {
  "kernelspec": {
   "display_name": "Python 3",
   "language": "python",
   "name": "python3"
  },
  "language_info": {
   "codemirror_mode": {
    "name": "ipython",
    "version": 3
   },
   "file_extension": ".py",
   "mimetype": "text/x-python",
   "name": "python",
   "nbconvert_exporter": "python",
   "pygments_lexer": "ipython3",
   "version": "3.6.1"
  }
 },
 "nbformat": 4,
 "nbformat_minor": 2
}
